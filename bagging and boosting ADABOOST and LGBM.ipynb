{
 "cells": [
  {
   "cell_type": "code",
   "execution_count": 1,
   "metadata": {},
   "outputs": [],
   "source": [
    "import numpy as np\n",
    "import pandas as pd\n",
    "import matplotlib.pyplot as plt\n",
    "import seaborn as sns\n",
    "import warnings\n",
    "warnings.filterwarnings('ignore')"
   ]
  },
  {
   "cell_type": "code",
   "execution_count": 2,
   "metadata": {},
   "outputs": [
    {
     "data": {
      "text/html": [
       "<div>\n",
       "<style scoped>\n",
       "    .dataframe tbody tr th:only-of-type {\n",
       "        vertical-align: middle;\n",
       "    }\n",
       "\n",
       "    .dataframe tbody tr th {\n",
       "        vertical-align: top;\n",
       "    }\n",
       "\n",
       "    .dataframe thead th {\n",
       "        text-align: right;\n",
       "    }\n",
       "</style>\n",
       "<table border=\"1\" class=\"dataframe\">\n",
       "  <thead>\n",
       "    <tr style=\"text-align: right;\">\n",
       "      <th></th>\n",
       "      <th>Pregnancies</th>\n",
       "      <th>Glucose</th>\n",
       "      <th>BloodPressure</th>\n",
       "      <th>SkinThickness</th>\n",
       "      <th>Insulin</th>\n",
       "      <th>BMI</th>\n",
       "      <th>DiabetesPedigreeFunction</th>\n",
       "      <th>Age</th>\n",
       "      <th>Outcome</th>\n",
       "    </tr>\n",
       "  </thead>\n",
       "  <tbody>\n",
       "    <tr>\n",
       "      <td>0</td>\n",
       "      <td>1</td>\n",
       "      <td>100</td>\n",
       "      <td>66</td>\n",
       "      <td>29</td>\n",
       "      <td>196</td>\n",
       "      <td>32.0</td>\n",
       "      <td>0.444</td>\n",
       "      <td>42</td>\n",
       "      <td>0</td>\n",
       "    </tr>\n",
       "    <tr>\n",
       "      <td>1</td>\n",
       "      <td>9</td>\n",
       "      <td>57</td>\n",
       "      <td>80</td>\n",
       "      <td>37</td>\n",
       "      <td>0</td>\n",
       "      <td>32.8</td>\n",
       "      <td>0.096</td>\n",
       "      <td>41</td>\n",
       "      <td>0</td>\n",
       "    </tr>\n",
       "    <tr>\n",
       "      <td>2</td>\n",
       "      <td>0</td>\n",
       "      <td>100</td>\n",
       "      <td>70</td>\n",
       "      <td>26</td>\n",
       "      <td>50</td>\n",
       "      <td>30.8</td>\n",
       "      <td>0.597</td>\n",
       "      <td>21</td>\n",
       "      <td>0</td>\n",
       "    </tr>\n",
       "    <tr>\n",
       "      <td>3</td>\n",
       "      <td>1</td>\n",
       "      <td>119</td>\n",
       "      <td>88</td>\n",
       "      <td>41</td>\n",
       "      <td>170</td>\n",
       "      <td>45.3</td>\n",
       "      <td>0.507</td>\n",
       "      <td>26</td>\n",
       "      <td>0</td>\n",
       "    </tr>\n",
       "    <tr>\n",
       "      <td>4</td>\n",
       "      <td>2</td>\n",
       "      <td>102</td>\n",
       "      <td>86</td>\n",
       "      <td>36</td>\n",
       "      <td>120</td>\n",
       "      <td>45.5</td>\n",
       "      <td>0.127</td>\n",
       "      <td>23</td>\n",
       "      <td>1</td>\n",
       "    </tr>\n",
       "  </tbody>\n",
       "</table>\n",
       "</div>"
      ],
      "text/plain": [
       "   Pregnancies  Glucose  BloodPressure  SkinThickness  Insulin   BMI  \\\n",
       "0            1      100             66             29      196  32.0   \n",
       "1            9       57             80             37        0  32.8   \n",
       "2            0      100             70             26       50  30.8   \n",
       "3            1      119             88             41      170  45.3   \n",
       "4            2      102             86             36      120  45.5   \n",
       "\n",
       "   DiabetesPedigreeFunction  Age  Outcome  \n",
       "0                     0.444   42        0  \n",
       "1                     0.096   41        0  \n",
       "2                     0.597   21        0  \n",
       "3                     0.507   26        0  \n",
       "4                     0.127   23        1  "
      ]
     },
     "execution_count": 2,
     "metadata": {},
     "output_type": "execute_result"
    }
   ],
   "source": [
    "df=pd.read_csv(\"C:/Users/sai/Downloads/UahZCQ.csv\")\n",
    "df=df.sample(frac=1,random_state=4).reset_index(drop=True)\n",
    "df.head()"
   ]
  },
  {
   "cell_type": "code",
   "execution_count": 3,
   "metadata": {},
   "outputs": [
    {
     "data": {
      "text/plain": [
       "Pregnancies                 0\n",
       "Glucose                     0\n",
       "BloodPressure               0\n",
       "SkinThickness               0\n",
       "Insulin                     0\n",
       "BMI                         0\n",
       "DiabetesPedigreeFunction    0\n",
       "Age                         0\n",
       "Outcome                     0\n",
       "dtype: int64"
      ]
     },
     "execution_count": 3,
     "metadata": {},
     "output_type": "execute_result"
    }
   ],
   "source": [
    "df.isnull().sum()"
   ]
  },
  {
   "cell_type": "code",
   "execution_count": 4,
   "metadata": {},
   "outputs": [],
   "source": [
    "from sklearn.model_selection import train_test_split"
   ]
  },
  {
   "cell_type": "code",
   "execution_count": 5,
   "metadata": {},
   "outputs": [],
   "source": [
    "y=df['Outcome']\n",
    "x=df.drop('Outcome',axis=1)\n",
    "\n",
    "x_train,x_test,y_train,y_test=train_test_split(x,y,test_size=0.3,random_state=42)"
   ]
  },
  {
   "cell_type": "code",
   "execution_count": 1,
   "metadata": {},
   "outputs": [],
   "source": [
    "from sklearn.ensemble import AdaBoostClassifier"
   ]
  },
  {
   "cell_type": "code",
   "execution_count": 7,
   "metadata": {},
   "outputs": [
    {
     "name": "stdout",
     "output_type": "stream",
     "text": [
      "train - confusion matrix :  \n",
      " [[320  29]\n",
      " [ 49 139]]\n",
      "train - accuracy score :  \n",
      " 0.8547486033519553\n",
      "train - AUC :  0.9358425288057063\n"
     ]
    }
   ],
   "source": [
    "from sklearn.metrics import accuracy_score,confusion_matrix,roc_auc_score,roc_curve\n",
    "\n",
    "ada=AdaBoostClassifier(random_state=4)\n",
    "ada.fit(x_train,y_train)\n",
    "\n",
    "y_train_pred=ada.predict(x_train)\n",
    "y_train_prob=ada.predict_proba(x_train)[:,1]\n",
    "print('train - confusion matrix : ','\\n',confusion_matrix(y_train,y_train_pred))\n",
    "print('train - accuracy score : ','\\n', accuracy_score(y_train,y_train_pred))\n",
    "print('train - AUC : ', roc_auc_score(y_train,y_train_prob))"
   ]
  },
  {
   "cell_type": "code",
   "execution_count": 8,
   "metadata": {},
   "outputs": [
    {
     "name": "stdout",
     "output_type": "stream",
     "text": [
      "test - confusion matrix :  \n",
      " [[128  23]\n",
      " [ 40  40]]\n",
      "test - accuracy score :  \n",
      " 0.7272727272727273\n",
      "test - AUC :  0.7894867549668874\n"
     ]
    }
   ],
   "source": [
    "y_test_pred=ada.predict(x_test)\n",
    "y_test_prob=ada.predict_proba(x_test)[:,1]\n",
    "print('test - confusion matrix : ','\\n',confusion_matrix(y_test,y_test_pred))\n",
    "print('test - accuracy score : ','\\n', accuracy_score(y_test,y_test_pred))\n",
    "print('test - AUC : ', roc_auc_score(y_test,y_test_prob))"
   ]
  },
  {
   "cell_type": "markdown",
   "metadata": {},
   "source": [
    "# lgbm"
   ]
  },
  {
   "cell_type": "code",
   "execution_count": 9,
   "metadata": {},
   "outputs": [],
   "source": [
    "# !pip install lightgbm"
   ]
  },
  {
   "cell_type": "code",
   "execution_count": 10,
   "metadata": {},
   "outputs": [],
   "source": [
    "import lightgbm as lgb"
   ]
  },
  {
   "cell_type": "code",
   "execution_count": 11,
   "metadata": {},
   "outputs": [
    {
     "data": {
      "text/plain": [
       "LGBMClassifier(random_state=4)"
      ]
     },
     "execution_count": 11,
     "metadata": {},
     "output_type": "execute_result"
    }
   ],
   "source": [
    "lgbmc=lgb.LGBMClassifier(random_state=4)\n",
    "lgbmc.fit(x_train,y_train)"
   ]
  },
  {
   "cell_type": "code",
   "execution_count": 12,
   "metadata": {},
   "outputs": [
    {
     "name": "stdout",
     "output_type": "stream",
     "text": [
      "train - confusion matrix :  \n",
      " [[349   0]\n",
      " [  0 188]]\n",
      "train - accuracy score :  \n",
      " 1.0\n",
      "train - AUC :  1.0\n"
     ]
    }
   ],
   "source": [
    "y_train_pred=lgbmc.predict(x_train)\n",
    "y_train_prob=lgbmc.predict_proba(x_train)[:,1]\n",
    "print('train - confusion matrix : ','\\n',confusion_matrix(y_train,y_train_pred))\n",
    "print('train - accuracy score : ','\\n', accuracy_score(y_train,y_train_pred))\n",
    "print('train - AUC : ', roc_auc_score(y_train,y_train_prob))"
   ]
  },
  {
   "cell_type": "code",
   "execution_count": 13,
   "metadata": {},
   "outputs": [
    {
     "name": "stdout",
     "output_type": "stream",
     "text": [
      "test - confusion matrix :  \n",
      " [[120  31]\n",
      " [ 35  45]]\n",
      "test - accuracy score :  \n",
      " 0.7142857142857143\n",
      "test - AUC :  0.7836092715231788\n"
     ]
    }
   ],
   "source": [
    "y_test_pred=lgbmc.predict(x_test)\n",
    "y_test_prob=lgbmc.predict_proba(x_test)[:,1]\n",
    "print('test - confusion matrix : ','\\n',confusion_matrix(y_test,y_test_pred))\n",
    "print('test - accuracy score : ','\\n', accuracy_score(y_test,y_test_pred))\n",
    "print('test - AUC : ', roc_auc_score(y_test,y_test_prob))"
   ]
  },
  {
   "cell_type": "markdown",
   "metadata": {},
   "source": [
    "# hyper parameter tuning LGBM"
   ]
  },
  {
   "cell_type": "code",
   "execution_count": 14,
   "metadata": {},
   "outputs": [],
   "source": [
    "from sklearn.model_selection import RandomizedSearchCV"
   ]
  },
  {
   "cell_type": "code",
   "execution_count": 15,
   "metadata": {},
   "outputs": [
    {
     "name": "stdout",
     "output_type": "stream",
     "text": [
      "[LightGBM] [Warning] Accuracy may be bad since you didn't explicitly set num_leaves OR 2^max_depth > num_leaves. (num_leaves=31).\n",
      "RandomizedSearchCV(cv=3, estimator=LGBMClassifier(random_state=4), n_jobs=-1,\n",
      "                   param_distributions={'learning_rate': <scipy.stats._distn_infrastructure.rv_frozen object at 0x0000028123D00808>,\n",
      "                                        'max_depth': <scipy.stats._distn_infrastructure.rv_frozen object at 0x0000028123D00608>,\n",
      "                                        'n_estimators': <scipy.stats._distn_infrastructure.rv_frozen object at 0x0000028123D00488>},\n",
      "                   random_state=4, scoring='roc_auc')\n",
      "{'learning_rate': 0.022080028965749787, 'max_depth': 6, 'n_estimators': 80}\n"
     ]
    }
   ],
   "source": [
    "from scipy.stats import randint as sp_randint\n",
    "from scipy.stats import uniform as sp_uniform\n",
    "\n",
    "lgbmc=lgb.LGBMClassifier(random_state=4)\n",
    "params={'n_estimators':sp_randint(50,250),'max_depth':sp_randint(1,15),\n",
    "        'learning_rate':sp_uniform(0,0.5)}\n",
    "\n",
    "r_search=RandomizedSearchCV(estimator=lgbmc,param_distributions=params,cv=3,n_iter=10,scoring='roc_auc',\n",
    "                           random_state=4,n_jobs=-1)\n",
    "\n",
    "print(r_search.fit(x,y))\n",
    "print(r_search.best_params_)"
   ]
  },
  {
   "cell_type": "code",
   "execution_count": 16,
   "metadata": {},
   "outputs": [
    {
     "name": "stdout",
     "output_type": "stream",
     "text": [
      "RandomizedSearchCV(cv=3, estimator=LGBMClassifier(random_state=4), n_iter=100,\n",
      "                   n_jobs=-1,\n",
      "                   param_distributions={'learning_rate': <scipy.stats._distn_infrastructure.rv_frozen object at 0x0000028123D4A408>,\n",
      "                                        'max_depth': <scipy.stats._distn_infrastructure.rv_frozen object at 0x0000028123CD0308>,\n",
      "                                        'n_estimators': <scipy.stats._distn_infrastructure.rv_frozen object at 0x0000028123D00448>},\n",
      "                   random_state=4, scoring='roc_auc')\n",
      "{'learning_rate': 0.1822765876628779, 'max_depth': 1, 'n_estimators': 57}\n"
     ]
    }
   ],
   "source": [
    "lgbmc=lgb.LGBMClassifier(random_state=4)\n",
    "params={'n_estimators':sp_randint(50,250),'max_depth':sp_randint(1,15),\n",
    "        'learning_rate':sp_uniform(0,0.5)}\n",
    "\n",
    "r_search=RandomizedSearchCV(estimator=lgbmc,param_distributions=params,cv=3,n_iter=100,scoring='roc_auc',\n",
    "                           random_state=4,n_jobs=-1)\n",
    "\n",
    "print(r_search.fit(x,y))\n",
    "print(r_search.best_params_)"
   ]
  },
  {
   "cell_type": "code",
   "execution_count": 17,
   "metadata": {},
   "outputs": [
    {
     "name": "stdout",
     "output_type": "stream",
     "text": [
      "train - confusion matrix :  \n",
      " [[318  31]\n",
      " [ 62 126]]\n",
      "train - accuracy score :  \n",
      " 0.8268156424581006\n",
      "train - AUC :  0.8987532768396025\n"
     ]
    }
   ],
   "source": [
    "lgbm=lgb.LGBMClassifier(**r_search.best_params_,importance_type='gain',random_state=4)\n",
    "lgbm.fit(x_train,y_train)\n",
    "y_train_pred=lgbm.predict(x_train)\n",
    "y_train_prob=lgbm.predict_proba(x_train)[:,1]\n",
    "print('train - confusion matrix : ','\\n',confusion_matrix(y_train,y_train_pred))\n",
    "print('train - accuracy score : ','\\n', accuracy_score(y_train,y_train_pred))\n",
    "print('train - AUC : ', roc_auc_score(y_train,y_train_prob))"
   ]
  },
  {
   "cell_type": "code",
   "execution_count": 18,
   "metadata": {},
   "outputs": [
    {
     "name": "stdout",
     "output_type": "stream",
     "text": [
      "train - confusion matrix :  \n",
      " [[120  31]\n",
      " [ 35  45]]\n",
      "train - accuracy score :  \n",
      " 0.7142857142857143\n",
      "train - AUC :  0.7836092715231788\n"
     ]
    }
   ],
   "source": [
    "y_train_pred=lgbm.predict(x_test)\n",
    "y_train_prob=lgbm.predict_proba(x_test)[:,1]\n",
    "print('train - confusion matrix : ','\\n',confusion_matrix(y_test,y_test_pred))\n",
    "print('train - accuracy score : ','\\n', accuracy_score(y_test,y_test_pred))\n",
    "print('train - AUC : ', roc_auc_score(y_test,y_test_prob))"
   ]
  },
  {
   "cell_type": "code",
   "execution_count": 19,
   "metadata": {},
   "outputs": [
    {
     "data": {
      "text/html": [
       "<div>\n",
       "<style scoped>\n",
       "    .dataframe tbody tr th:only-of-type {\n",
       "        vertical-align: middle;\n",
       "    }\n",
       "\n",
       "    .dataframe tbody tr th {\n",
       "        vertical-align: top;\n",
       "    }\n",
       "\n",
       "    .dataframe thead th {\n",
       "        text-align: right;\n",
       "    }\n",
       "</style>\n",
       "<table border=\"1\" class=\"dataframe\">\n",
       "  <thead>\n",
       "    <tr style=\"text-align: right;\">\n",
       "      <th></th>\n",
       "      <th>imp</th>\n",
       "    </tr>\n",
       "  </thead>\n",
       "  <tbody>\n",
       "    <tr>\n",
       "      <td>Pregnancies</td>\n",
       "      <td>29.983000</td>\n",
       "    </tr>\n",
       "    <tr>\n",
       "      <td>Glucose</td>\n",
       "      <td>514.958633</td>\n",
       "    </tr>\n",
       "    <tr>\n",
       "      <td>BloodPressure</td>\n",
       "      <td>9.576620</td>\n",
       "    </tr>\n",
       "    <tr>\n",
       "      <td>SkinThickness</td>\n",
       "      <td>0.000000</td>\n",
       "    </tr>\n",
       "    <tr>\n",
       "      <td>Insulin</td>\n",
       "      <td>0.000000</td>\n",
       "    </tr>\n",
       "    <tr>\n",
       "      <td>BMI</td>\n",
       "      <td>140.735138</td>\n",
       "    </tr>\n",
       "    <tr>\n",
       "      <td>DiabetesPedigreeFunction</td>\n",
       "      <td>29.757900</td>\n",
       "    </tr>\n",
       "    <tr>\n",
       "      <td>Age</td>\n",
       "      <td>99.068299</td>\n",
       "    </tr>\n",
       "  </tbody>\n",
       "</table>\n",
       "</div>"
      ],
      "text/plain": [
       "                                 imp\n",
       "Pregnancies                29.983000\n",
       "Glucose                   514.958633\n",
       "BloodPressure               9.576620\n",
       "SkinThickness               0.000000\n",
       "Insulin                     0.000000\n",
       "BMI                       140.735138\n",
       "DiabetesPedigreeFunction   29.757900\n",
       "Age                        99.068299"
      ]
     },
     "execution_count": 19,
     "metadata": {},
     "output_type": "execute_result"
    }
   ],
   "source": [
    "pd.DataFrame(lgbm.feature_importances_,index=x.columns,columns=['imp'])"
   ]
  },
  {
   "cell_type": "code",
   "execution_count": 20,
   "metadata": {},
   "outputs": [],
   "source": [
    "# we can drop the insignificant variables"
   ]
  },
  {
   "cell_type": "code",
   "execution_count": 21,
   "metadata": {},
   "outputs": [],
   "source": [
    "y=df['Outcome']\n",
    "x=df.drop(['Outcome','SkinThickness','Insulin'],axis=1)\n",
    "\n",
    "x_train,x_test,y_train,y_test=train_test_split(x,y,test_size=0.3,random_state=42)"
   ]
  },
  {
   "cell_type": "code",
   "execution_count": 22,
   "metadata": {},
   "outputs": [
    {
     "name": "stdout",
     "output_type": "stream",
     "text": [
      "[LightGBM] [Warning] Accuracy may be bad since you didn't explicitly set num_leaves OR 2^max_depth > num_leaves. (num_leaves=31).\n",
      "RandomizedSearchCV(cv=3, estimator=LGBMClassifier(random_state=4), n_jobs=-1,\n",
      "                   param_distributions={'learning_rate': <scipy.stats._distn_infrastructure.rv_frozen object at 0x0000028123D06CC8>,\n",
      "                                        'max_depth': <scipy.stats._distn_infrastructure.rv_frozen object at 0x0000028123D55608>,\n",
      "                                        'n_estimators': <scipy.stats._distn_infrastructure.rv_frozen object at 0x0000028123CF81C8>},\n",
      "                   random_state=4, scoring='roc_auc')\n",
      "{'learning_rate': 0.022080028965749787, 'max_depth': 6, 'n_estimators': 80}\n"
     ]
    }
   ],
   "source": [
    "from scipy.stats import randint as sp_randint\n",
    "from scipy.stats import uniform as sp_uniform\n",
    "\n",
    "lgbmc=lgb.LGBMClassifier(random_state=4)\n",
    "params={'n_estimators':sp_randint(50,250),'max_depth':sp_randint(1,15),\n",
    "        'learning_rate':sp_uniform(0,0.5)}\n",
    "\n",
    "r_search=RandomizedSearchCV(estimator=lgbmc,param_distributions=params,cv=3,n_iter=10,scoring='roc_auc',\n",
    "                           random_state=4,n_jobs=-1)\n",
    "\n",
    "print(r_search.fit(x,y))\n",
    "print(r_search.best_params_)"
   ]
  },
  {
   "cell_type": "code",
   "execution_count": null,
   "metadata": {},
   "outputs": [],
   "source": []
  },
  {
   "cell_type": "code",
   "execution_count": null,
   "metadata": {},
   "outputs": [],
   "source": []
  }
 ],
 "metadata": {
  "kernelspec": {
   "display_name": "Python 3",
   "language": "python",
   "name": "python3"
  },
  "language_info": {
   "codemirror_mode": {
    "name": "ipython",
    "version": 3
   },
   "file_extension": ".py",
   "mimetype": "text/x-python",
   "name": "python",
   "nbconvert_exporter": "python",
   "pygments_lexer": "ipython3",
   "version": "3.8.5"
  }
 },
 "nbformat": 4,
 "nbformat_minor": 2
}
