{
 "cells": [
  {
   "cell_type": "code",
   "execution_count": 1,
   "metadata": {},
   "outputs": [],
   "source": [
    "import numpy as np\n",
    "import pandas as pd\n",
    "import matplotlib.pyplot as plt\n",
    "import seaborn as sns\n",
    "import warnings\n",
    "warnings.filterwarnings('ignore')"
   ]
  },
  {
   "cell_type": "code",
   "execution_count": 2,
   "metadata": {},
   "outputs": [],
   "source": [
    "from sklearn.tree import export_graphviz\n",
    "from IPython.display import Image"
   ]
  },
  {
   "cell_type": "code",
   "execution_count": 3,
   "metadata": {},
   "outputs": [],
   "source": [
    "import pydotplus"
   ]
  },
  {
   "cell_type": "code",
   "execution_count": 4,
   "metadata": {},
   "outputs": [],
   "source": [
    "import graphviz"
   ]
  },
  {
   "cell_type": "code",
   "execution_count": 2,
   "metadata": {},
   "outputs": [
    {
     "data": {
      "text/html": [
       "<div>\n",
       "<style scoped>\n",
       "    .dataframe tbody tr th:only-of-type {\n",
       "        vertical-align: middle;\n",
       "    }\n",
       "\n",
       "    .dataframe tbody tr th {\n",
       "        vertical-align: top;\n",
       "    }\n",
       "\n",
       "    .dataframe thead th {\n",
       "        text-align: right;\n",
       "    }\n",
       "</style>\n",
       "<table border=\"1\" class=\"dataframe\">\n",
       "  <thead>\n",
       "    <tr style=\"text-align: right;\">\n",
       "      <th></th>\n",
       "      <th>ID</th>\n",
       "      <th>SeriousDlqin2yrs</th>\n",
       "      <th>RevolvingUtilizationOfUnsecuredLines</th>\n",
       "      <th>age</th>\n",
       "      <th>DebtRatio</th>\n",
       "      <th>MonthlyIncome</th>\n",
       "      <th>NumberOfOpenCreditLinesAndLoans</th>\n",
       "      <th>NumberRealEstateLoansOrLines</th>\n",
       "      <th>NumberOfDependents</th>\n",
       "    </tr>\n",
       "  </thead>\n",
       "  <tbody>\n",
       "    <tr>\n",
       "      <td>0</td>\n",
       "      <td>132394</td>\n",
       "      <td>0</td>\n",
       "      <td>1.000000</td>\n",
       "      <td>76</td>\n",
       "      <td>0.319340</td>\n",
       "      <td>2000.0</td>\n",
       "      <td>6</td>\n",
       "      <td>0</td>\n",
       "      <td>0.0</td>\n",
       "    </tr>\n",
       "    <tr>\n",
       "      <td>1</td>\n",
       "      <td>93855</td>\n",
       "      <td>0</td>\n",
       "      <td>0.266782</td>\n",
       "      <td>44</td>\n",
       "      <td>0.154811</td>\n",
       "      <td>3668.0</td>\n",
       "      <td>7</td>\n",
       "      <td>0</td>\n",
       "      <td>2.0</td>\n",
       "    </tr>\n",
       "    <tr>\n",
       "      <td>2</td>\n",
       "      <td>106376</td>\n",
       "      <td>0</td>\n",
       "      <td>0.479971</td>\n",
       "      <td>74</td>\n",
       "      <td>0.288830</td>\n",
       "      <td>10500.0</td>\n",
       "      <td>11</td>\n",
       "      <td>1</td>\n",
       "      <td>0.0</td>\n",
       "    </tr>\n",
       "    <tr>\n",
       "      <td>3</td>\n",
       "      <td>7391</td>\n",
       "      <td>0</td>\n",
       "      <td>0.460477</td>\n",
       "      <td>42</td>\n",
       "      <td>0.204466</td>\n",
       "      <td>6000.0</td>\n",
       "      <td>10</td>\n",
       "      <td>0</td>\n",
       "      <td>1.0</td>\n",
       "    </tr>\n",
       "    <tr>\n",
       "      <td>4</td>\n",
       "      <td>84921</td>\n",
       "      <td>0</td>\n",
       "      <td>0.392186</td>\n",
       "      <td>39</td>\n",
       "      <td>0.355366</td>\n",
       "      <td>4583.0</td>\n",
       "      <td>5</td>\n",
       "      <td>1</td>\n",
       "      <td>1.0</td>\n",
       "    </tr>\n",
       "  </tbody>\n",
       "</table>\n",
       "</div>"
      ],
      "text/plain": [
       "       ID  SeriousDlqin2yrs  RevolvingUtilizationOfUnsecuredLines  age  \\\n",
       "0  132394                 0                              1.000000   76   \n",
       "1   93855                 0                              0.266782   44   \n",
       "2  106376                 0                              0.479971   74   \n",
       "3    7391                 0                              0.460477   42   \n",
       "4   84921                 0                              0.392186   39   \n",
       "\n",
       "   DebtRatio  MonthlyIncome  NumberOfOpenCreditLinesAndLoans  \\\n",
       "0   0.319340         2000.0                                6   \n",
       "1   0.154811         3668.0                                7   \n",
       "2   0.288830        10500.0                               11   \n",
       "3   0.204466         6000.0                               10   \n",
       "4   0.355366         4583.0                                5   \n",
       "\n",
       "   NumberRealEstateLoansOrLines  NumberOfDependents  \n",
       "0                             0                 0.0  \n",
       "1                             0                 2.0  \n",
       "2                             1                 0.0  \n",
       "3                             0                 1.0  \n",
       "4                             1                 1.0  "
      ]
     },
     "execution_count": 2,
     "metadata": {},
     "output_type": "execute_result"
    }
   ],
   "source": [
    "df=pd.read_pickle(\"C:/Users/sai/Downloads/gmsc_clean.pkl\")\n",
    "df=df.sample(frac=1,random_state=4).reset_index(drop=True)\n",
    "df.head()"
   ]
  },
  {
   "cell_type": "code",
   "execution_count": 3,
   "metadata": {},
   "outputs": [
    {
     "data": {
      "text/plain": [
       "(150000, 9)"
      ]
     },
     "execution_count": 3,
     "metadata": {},
     "output_type": "execute_result"
    }
   ],
   "source": [
    "df.shape"
   ]
  },
  {
   "cell_type": "code",
   "execution_count": 4,
   "metadata": {},
   "outputs": [
    {
     "data": {
      "text/plain": [
       "1350000"
      ]
     },
     "execution_count": 4,
     "metadata": {},
     "output_type": "execute_result"
    }
   ],
   "source": [
    "df.size"
   ]
  },
  {
   "cell_type": "code",
   "execution_count": 5,
   "metadata": {},
   "outputs": [
    {
     "data": {
      "text/plain": [
       "ID                                      0\n",
       "SeriousDlqin2yrs                        0\n",
       "RevolvingUtilizationOfUnsecuredLines    0\n",
       "age                                     0\n",
       "DebtRatio                               0\n",
       "MonthlyIncome                           0\n",
       "NumberOfOpenCreditLinesAndLoans         0\n",
       "NumberRealEstateLoansOrLines            0\n",
       "NumberOfDependents                      0\n",
       "dtype: int64"
      ]
     },
     "execution_count": 5,
     "metadata": {},
     "output_type": "execute_result"
    }
   ],
   "source": [
    "df.isnull().sum()"
   ]
  },
  {
   "cell_type": "code",
   "execution_count": 6,
   "metadata": {
    "scrolled": true
   },
   "outputs": [
    {
     "data": {
      "text/plain": [
       "False    150000\n",
       "dtype: int64"
      ]
     },
     "execution_count": 6,
     "metadata": {},
     "output_type": "execute_result"
    }
   ],
   "source": [
    "df.duplicated().value_counts()"
   ]
  },
  {
   "cell_type": "code",
   "execution_count": 7,
   "metadata": {},
   "outputs": [
    {
     "name": "stdout",
     "output_type": "stream",
     "text": [
      "<class 'pandas.core.frame.DataFrame'>\n",
      "RangeIndex: 150000 entries, 0 to 149999\n",
      "Data columns (total 9 columns):\n",
      "ID                                      150000 non-null int64\n",
      "SeriousDlqin2yrs                        150000 non-null int64\n",
      "RevolvingUtilizationOfUnsecuredLines    150000 non-null float64\n",
      "age                                     150000 non-null int64\n",
      "DebtRatio                               150000 non-null float64\n",
      "MonthlyIncome                           150000 non-null float64\n",
      "NumberOfOpenCreditLinesAndLoans         150000 non-null int64\n",
      "NumberRealEstateLoansOrLines            150000 non-null int64\n",
      "NumberOfDependents                      150000 non-null float64\n",
      "dtypes: float64(4), int64(5)\n",
      "memory usage: 10.3 MB\n"
     ]
    }
   ],
   "source": [
    "df.info()"
   ]
  },
  {
   "cell_type": "code",
   "execution_count": 8,
   "metadata": {},
   "outputs": [
    {
     "data": {
      "text/plain": [
       "0    139974\n",
       "1     10026\n",
       "Name: SeriousDlqin2yrs, dtype: int64"
      ]
     },
     "execution_count": 8,
     "metadata": {},
     "output_type": "execute_result"
    }
   ],
   "source": [
    "df['SeriousDlqin2yrs'].value_counts()"
   ]
  },
  {
   "cell_type": "code",
   "execution_count": 9,
   "metadata": {},
   "outputs": [
    {
     "data": {
      "text/plain": [
       "0    0.93316\n",
       "1    0.06684\n",
       "Name: SeriousDlqin2yrs, dtype: float64"
      ]
     },
     "execution_count": 9,
     "metadata": {},
     "output_type": "execute_result"
    }
   ],
   "source": [
    "df['SeriousDlqin2yrs'].value_counts(normalize=True)"
   ]
  },
  {
   "cell_type": "code",
   "execution_count": 10,
   "metadata": {},
   "outputs": [],
   "source": [
    "from sklearn.ensemble import RandomForestClassifier\n",
    "from sklearn.model_selection import train_test_split"
   ]
  },
  {
   "cell_type": "code",
   "execution_count": 11,
   "metadata": {},
   "outputs": [],
   "source": [
    "y=df['SeriousDlqin2yrs']\n",
    "x=df.drop(['ID','SeriousDlqin2yrs'],axis=1)\n",
    "x_train,x_test,y_train,y_test=train_test_split(x,y,test_size=0.3,random_state=42)"
   ]
  },
  {
   "cell_type": "code",
   "execution_count": 12,
   "metadata": {},
   "outputs": [],
   "source": [
    "from sklearn.metrics import accuracy_score,confusion_matrix,roc_auc_score,roc_curve"
   ]
  },
  {
   "cell_type": "code",
   "execution_count": 13,
   "metadata": {},
   "outputs": [
    {
     "name": "stdout",
     "output_type": "stream",
     "text": [
      "train - confusion matrix :  \n",
      " [[98011     0]\n",
      " [   10  6979]]\n",
      "train - accuracy score :  \n",
      " 0.9999047619047619\n",
      "train - AUC :  0.9999999576641643\n"
     ]
    }
   ],
   "source": [
    "rfc=RandomForestClassifier(n_estimators=100,random_state=4)\n",
    "rfc.fit(x_train,y_train)\n",
    "\n",
    "y_train_pred=rfc.predict(x_train)\n",
    "y_train_prob=rfc.predict_proba(x_train)[:,1]\n",
    "print('train - confusion matrix : ','\\n',confusion_matrix(y_train,y_train_pred))\n",
    "print('train - accuracy score : ','\\n', accuracy_score(y_train,y_train_pred))\n",
    "print('train - AUC : ', roc_auc_score(y_train,y_train_prob))"
   ]
  },
  {
   "cell_type": "code",
   "execution_count": 14,
   "metadata": {},
   "outputs": [
    {
     "name": "stdout",
     "output_type": "stream",
     "text": [
      "test - confusion matrix :  \n",
      " [[41872    91]\n",
      " [ 3006    31]]\n",
      "test - accuracy score :  \n",
      " 0.9311777777777778\n",
      "test - AUC :  0.7257853283437655\n"
     ]
    }
   ],
   "source": [
    "y_test_pred=rfc.predict(x_test)\n",
    "y_test_prob=rfc.predict_proba(x_test)[:,1]\n",
    "print('test - confusion matrix : ','\\n',confusion_matrix(y_test,y_test_pred))\n",
    "print('test - accuracy score : ','\\n', accuracy_score(y_test,y_test_pred))\n",
    "print('test - AUC : ', roc_auc_score(y_test,y_test_prob))"
   ]
  },
  {
   "cell_type": "markdown",
   "metadata": {},
   "source": [
    "# tuning random forest"
   ]
  },
  {
   "cell_type": "code",
   "execution_count": 15,
   "metadata": {},
   "outputs": [
    {
     "data": {
      "text/plain": [
       "dict_keys(['explained_variance', 'r2', 'max_error', 'neg_median_absolute_error', 'neg_mean_absolute_error', 'neg_mean_absolute_percentage_error', 'neg_mean_squared_error', 'neg_mean_squared_log_error', 'neg_root_mean_squared_error', 'neg_mean_poisson_deviance', 'neg_mean_gamma_deviance', 'accuracy', 'top_k_accuracy', 'roc_auc', 'roc_auc_ovr', 'roc_auc_ovo', 'roc_auc_ovr_weighted', 'roc_auc_ovo_weighted', 'balanced_accuracy', 'average_precision', 'neg_log_loss', 'neg_brier_score', 'adjusted_rand_score', 'rand_score', 'homogeneity_score', 'completeness_score', 'v_measure_score', 'mutual_info_score', 'adjusted_mutual_info_score', 'normalized_mutual_info_score', 'fowlkes_mallows_score', 'precision', 'precision_macro', 'precision_micro', 'precision_samples', 'precision_weighted', 'recall', 'recall_macro', 'recall_micro', 'recall_samples', 'recall_weighted', 'f1', 'f1_macro', 'f1_micro', 'f1_samples', 'f1_weighted', 'jaccard', 'jaccard_macro', 'jaccard_micro', 'jaccard_samples', 'jaccard_weighted'])"
      ]
     },
     "execution_count": 15,
     "metadata": {},
     "output_type": "execute_result"
    }
   ],
   "source": [
    "import sklearn\n",
    "sklearn.metrics.SCORERS.keys()"
   ]
  },
  {
   "cell_type": "code",
   "execution_count": 16,
   "metadata": {},
   "outputs": [
    {
     "name": "stdout",
     "output_type": "stream",
     "text": [
      "RandomizedSearchCV(cv=3, estimator=RandomForestClassifier(), n_jobs=-1,\n",
      "                   param_distributions={'criterion': ['gini', 'entropy'],\n",
      "                                        'max_depth': <scipy.stats._distn_infrastructure.rv_frozen object at 0x00000231EB1E5548>,\n",
      "                                        'max_features': <scipy.stats._distn_infrastructure.rv_frozen object at 0x00000231EB1E5248>,\n",
      "                                        'min_samples_leaf': <scipy.stats._distn_infrastructure.rv_frozen object at 0x00000231EA01EFC8>,\n",
      "                                        'min_samples_split': <scipy.stats._distn_infrastructure.rv_frozen object at 0x00000231EB1E57C8>,\n",
      "                                        'n_estimators': <scipy.stats._distn_infrastructure.rv_frozen object at 0x00000231EB1E5108>},\n",
      "                   random_state=4, scoring='roc_auc')\n",
      "{'criterion': 'entropy', 'max_depth': 9, 'max_features': 2, 'min_samples_leaf': 9, 'min_samples_split': 38, 'n_estimators': 203}\n"
     ]
    }
   ],
   "source": [
    "from sklearn.model_selection import RandomizedSearchCV\n",
    "from scipy.stats import randint as sp_randint\n",
    "\n",
    "rfc=RandomForestClassifier()\n",
    "\n",
    "param_dist={'n_estimators':sp_randint(25,250),'max_features':sp_randint(1,7),'max_depth':sp_randint(2,15),\n",
    "           'min_samples_leaf':sp_randint(1,20),'min_samples_split':sp_randint(2,50),'criterion':['gini','entropy']}\n",
    "\n",
    "r_search=RandomizedSearchCV(estimator=rfc, param_distributions=param_dist, scoring='roc_auc', n_iter=10,cv=3,n_jobs=-1,random_state=4)\n",
    "\n",
    "print(r_search.fit(x,y))\n",
    "print(r_search.best_params_)"
   ]
  },
  {
   "cell_type": "code",
   "execution_count": 20,
   "metadata": {},
   "outputs": [
    {
     "name": "stdout",
     "output_type": "stream",
     "text": [
      "train - confusion matrix :  \n",
      " [[98011     0]\n",
      " [ 6989     0]]\n",
      "train - accuracy score :  \n",
      " 0.9334380952380953\n",
      "train - AUC :  0.8137380477377394\n"
     ]
    }
   ],
   "source": [
    "rfc=RandomForestClassifier(**r_search.best_params_,random_state=4)\n",
    "rfc.fit(x_train,y_train)\n",
    "\n",
    "y_train_pred=rfc.predict(x_train)\n",
    "y_train_prob=rfc.predict_proba(x_train)[:,1]\n",
    "print('train - confusion matrix : ','\\n',confusion_matrix(y_train,y_train_pred))\n",
    "print('train - accuracy score : ','\\n', accuracy_score(y_train,y_train_pred))\n",
    "print('train - AUC : ', roc_auc_score(y_train,y_train_prob))"
   ]
  },
  {
   "cell_type": "code",
   "execution_count": 21,
   "metadata": {},
   "outputs": [
    {
     "name": "stdout",
     "output_type": "stream",
     "text": [
      "test - confusion matrix :  \n",
      " [[41963     0]\n",
      " [ 3037     0]]\n",
      "test - accuracy score :  \n",
      " 0.9325111111111111\n",
      "test - AUC :  0.760016748373222\n"
     ]
    }
   ],
   "source": [
    "y_test_pred=rfc.predict(x_test)\n",
    "y_test_prob=rfc.predict_proba(x_test)[:,1]\n",
    "print('test - confusion matrix : ','\\n',confusion_matrix(y_test,y_test_pred))\n",
    "print('test - accuracy score : ','\\n', accuracy_score(y_test,y_test_pred))\n",
    "print('test - AUC : ', roc_auc_score(y_test,y_test_prob))"
   ]
  },
  {
   "cell_type": "code",
   "execution_count": null,
   "metadata": {},
   "outputs": [],
   "source": []
  }
 ],
 "metadata": {
  "kernelspec": {
   "display_name": "Python 3",
   "language": "python",
   "name": "python3"
  },
  "language_info": {
   "codemirror_mode": {
    "name": "ipython",
    "version": 3
   },
   "file_extension": ".py",
   "mimetype": "text/x-python",
   "name": "python",
   "nbconvert_exporter": "python",
   "pygments_lexer": "ipython3",
   "version": "3.8.5"
  }
 },
 "nbformat": 4,
 "nbformat_minor": 2
}
