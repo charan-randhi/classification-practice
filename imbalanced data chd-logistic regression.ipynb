{
 "cells": [
  {
   "cell_type": "code",
   "execution_count": 1,
   "metadata": {},
   "outputs": [],
   "source": [
    "import numpy as np\n",
    "import pandas as pd\n",
    "import matplotlib.pyplot as plt\n",
    "import seaborn as sns\n",
    "import warnings\n",
    "warnings.filterwarnings('ignore')"
   ]
  },
  {
   "cell_type": "code",
   "execution_count": 2,
   "metadata": {},
   "outputs": [
    {
     "data": {
      "text/html": [
       "<div>\n",
       "<style scoped>\n",
       "    .dataframe tbody tr th:only-of-type {\n",
       "        vertical-align: middle;\n",
       "    }\n",
       "\n",
       "    .dataframe tbody tr th {\n",
       "        vertical-align: top;\n",
       "    }\n",
       "\n",
       "    .dataframe thead th {\n",
       "        text-align: right;\n",
       "    }\n",
       "</style>\n",
       "<table border=\"1\" class=\"dataframe\">\n",
       "  <thead>\n",
       "    <tr style=\"text-align: right;\">\n",
       "      <th></th>\n",
       "      <th>male</th>\n",
       "      <th>age</th>\n",
       "      <th>education</th>\n",
       "      <th>currentSmoker</th>\n",
       "      <th>cigsPerDay</th>\n",
       "      <th>BPMeds</th>\n",
       "      <th>prevalentStroke</th>\n",
       "      <th>prevalentHyp</th>\n",
       "      <th>diabetes</th>\n",
       "      <th>totChol</th>\n",
       "      <th>sysBP</th>\n",
       "      <th>diaBP</th>\n",
       "      <th>BMI</th>\n",
       "      <th>heartRate</th>\n",
       "      <th>glucose</th>\n",
       "      <th>TenYearCHD</th>\n",
       "    </tr>\n",
       "  </thead>\n",
       "  <tbody>\n",
       "    <tr>\n",
       "      <td>0</td>\n",
       "      <td>0</td>\n",
       "      <td>67</td>\n",
       "      <td>1.0</td>\n",
       "      <td>1</td>\n",
       "      <td>3.0</td>\n",
       "      <td>0.0</td>\n",
       "      <td>0</td>\n",
       "      <td>1</td>\n",
       "      <td>0</td>\n",
       "      <td>270.0</td>\n",
       "      <td>137.5</td>\n",
       "      <td>72.5</td>\n",
       "      <td>35.01</td>\n",
       "      <td>85.0</td>\n",
       "      <td>73.0</td>\n",
       "      <td>0</td>\n",
       "    </tr>\n",
       "    <tr>\n",
       "      <td>1</td>\n",
       "      <td>1</td>\n",
       "      <td>51</td>\n",
       "      <td>4.0</td>\n",
       "      <td>0</td>\n",
       "      <td>0.0</td>\n",
       "      <td>0.0</td>\n",
       "      <td>0</td>\n",
       "      <td>0</td>\n",
       "      <td>0</td>\n",
       "      <td>260.0</td>\n",
       "      <td>127.5</td>\n",
       "      <td>92.0</td>\n",
       "      <td>32.98</td>\n",
       "      <td>56.0</td>\n",
       "      <td>93.0</td>\n",
       "      <td>0</td>\n",
       "    </tr>\n",
       "    <tr>\n",
       "      <td>2</td>\n",
       "      <td>0</td>\n",
       "      <td>48</td>\n",
       "      <td>3.0</td>\n",
       "      <td>1</td>\n",
       "      <td>9.0</td>\n",
       "      <td>0.0</td>\n",
       "      <td>0</td>\n",
       "      <td>1</td>\n",
       "      <td>0</td>\n",
       "      <td>266.0</td>\n",
       "      <td>155.0</td>\n",
       "      <td>100.0</td>\n",
       "      <td>27.86</td>\n",
       "      <td>75.0</td>\n",
       "      <td>84.0</td>\n",
       "      <td>0</td>\n",
       "    </tr>\n",
       "    <tr>\n",
       "      <td>3</td>\n",
       "      <td>0</td>\n",
       "      <td>44</td>\n",
       "      <td>3.0</td>\n",
       "      <td>1</td>\n",
       "      <td>20.0</td>\n",
       "      <td>0.0</td>\n",
       "      <td>0</td>\n",
       "      <td>1</td>\n",
       "      <td>0</td>\n",
       "      <td>284.0</td>\n",
       "      <td>143.0</td>\n",
       "      <td>92.0</td>\n",
       "      <td>21.19</td>\n",
       "      <td>84.0</td>\n",
       "      <td>88.0</td>\n",
       "      <td>0</td>\n",
       "    </tr>\n",
       "    <tr>\n",
       "      <td>4</td>\n",
       "      <td>0</td>\n",
       "      <td>64</td>\n",
       "      <td>2.0</td>\n",
       "      <td>0</td>\n",
       "      <td>0.0</td>\n",
       "      <td>0.0</td>\n",
       "      <td>0</td>\n",
       "      <td>1</td>\n",
       "      <td>0</td>\n",
       "      <td>279.0</td>\n",
       "      <td>172.0</td>\n",
       "      <td>87.0</td>\n",
       "      <td>24.01</td>\n",
       "      <td>80.0</td>\n",
       "      <td>70.0</td>\n",
       "      <td>0</td>\n",
       "    </tr>\n",
       "  </tbody>\n",
       "</table>\n",
       "</div>"
      ],
      "text/plain": [
       "   male  age  education  currentSmoker  cigsPerDay  BPMeds  prevalentStroke  \\\n",
       "0     0   67        1.0              1         3.0     0.0                0   \n",
       "1     1   51        4.0              0         0.0     0.0                0   \n",
       "2     0   48        3.0              1         9.0     0.0                0   \n",
       "3     0   44        3.0              1        20.0     0.0                0   \n",
       "4     0   64        2.0              0         0.0     0.0                0   \n",
       "\n",
       "   prevalentHyp  diabetes  totChol  sysBP  diaBP    BMI  heartRate  glucose  \\\n",
       "0             1         0    270.0  137.5   72.5  35.01       85.0     73.0   \n",
       "1             0         0    260.0  127.5   92.0  32.98       56.0     93.0   \n",
       "2             1         0    266.0  155.0  100.0  27.86       75.0     84.0   \n",
       "3             1         0    284.0  143.0   92.0  21.19       84.0     88.0   \n",
       "4             1         0    279.0  172.0   87.0  24.01       80.0     70.0   \n",
       "\n",
       "   TenYearCHD  \n",
       "0           0  \n",
       "1           0  \n",
       "2           0  \n",
       "3           0  \n",
       "4           0  "
      ]
     },
     "execution_count": 2,
     "metadata": {},
     "output_type": "execute_result"
    }
   ],
   "source": [
    "df=pd.read_csv(\"C:/Users/sai/Documents/great lakes/New batch/New folder/DSE-Aug20-SLC-BLR-Feb8-11/US_Heart_Patients.csv\")\n",
    "df=df.sample(frac=1,random_state=4).reset_index(drop=True)\n",
    "df.head()"
   ]
  },
  {
   "cell_type": "code",
   "execution_count": 3,
   "metadata": {},
   "outputs": [
    {
     "data": {
      "text/plain": [
       "male                 int64\n",
       "age                  int64\n",
       "education          float64\n",
       "currentSmoker        int64\n",
       "cigsPerDay         float64\n",
       "BPMeds             float64\n",
       "prevalentStroke      int64\n",
       "prevalentHyp         int64\n",
       "diabetes             int64\n",
       "totChol            float64\n",
       "sysBP              float64\n",
       "diaBP              float64\n",
       "BMI                float64\n",
       "heartRate          float64\n",
       "glucose            float64\n",
       "TenYearCHD           int64\n",
       "dtype: object"
      ]
     },
     "execution_count": 3,
     "metadata": {},
     "output_type": "execute_result"
    }
   ],
   "source": [
    "df.dtypes"
   ]
  },
  {
   "cell_type": "code",
   "execution_count": 3,
   "metadata": {
    "scrolled": true
   },
   "outputs": [
    {
     "data": {
      "text/plain": [
       "male                 0\n",
       "age                  0\n",
       "education          105\n",
       "currentSmoker        0\n",
       "cigsPerDay          29\n",
       "BPMeds              53\n",
       "prevalentStroke      0\n",
       "prevalentHyp         0\n",
       "diabetes             0\n",
       "totChol             50\n",
       "sysBP                0\n",
       "diaBP                0\n",
       "BMI                 19\n",
       "heartRate            1\n",
       "glucose            388\n",
       "TenYearCHD           0\n",
       "dtype: int64"
      ]
     },
     "execution_count": 3,
     "metadata": {},
     "output_type": "execute_result"
    }
   ],
   "source": [
    "df.isnull().sum()"
   ]
  },
  {
   "cell_type": "code",
   "execution_count": 4,
   "metadata": {},
   "outputs": [],
   "source": [
    "df=df.fillna(method='ffill')"
   ]
  },
  {
   "cell_type": "code",
   "execution_count": 5,
   "metadata": {},
   "outputs": [],
   "source": [
    "y=df['TenYearCHD']\n",
    "x=df.drop('TenYearCHD',axis=1)"
   ]
  },
  {
   "cell_type": "code",
   "execution_count": 6,
   "metadata": {},
   "outputs": [],
   "source": [
    "from sklearn.linear_model import LogisticRegression\n",
    "from sklearn.model_selection import train_test_split\n",
    "x_train,x_test,y_train,y_test=train_test_split(x,y,test_size=0.3,random_state=42)"
   ]
  },
  {
   "cell_type": "code",
   "execution_count": 7,
   "metadata": {},
   "outputs": [
    {
     "name": "stdout",
     "output_type": "stream",
     "text": [
      "train - confusion matrix :  \n",
      " [[2523    7]\n",
      " [ 415   23]]\n",
      "train - accuracy score :  \n",
      " 0.8578167115902965\n",
      "train - AUC :  0.72170574115184\n",
      "\n",
      "test - confusion matrix :  \n",
      " [[1062    4]\n",
      " [ 196   10]]\n",
      "test - accuracy score :  \n",
      " 0.8427672955974843\n",
      "test - AUC :  0.7315206105757847\n"
     ]
    }
   ],
   "source": [
    "from sklearn.metrics import accuracy_score,confusion_matrix,roc_auc_score,roc_curve\n",
    "lc=LogisticRegression(solver='liblinear')\n",
    "lc.fit(x_train,y_train)\n",
    "\n",
    "y_train_pred=lc.predict(x_train)\n",
    "y_train_prob=lc.predict_proba(x_train)[:,1]\n",
    "print('train - confusion matrix : ','\\n',confusion_matrix(y_train,y_train_pred))\n",
    "print('train - accuracy score : ','\\n', accuracy_score(y_train,y_train_pred))\n",
    "print('train - AUC : ', roc_auc_score(y_train,y_train_prob))\n",
    "print()\n",
    "y_test_pred=lc.predict(x_test)\n",
    "y_test_prob=lc.predict_proba(x_test)[:,1]\n",
    "print('test - confusion matrix : ','\\n',confusion_matrix(y_test,y_test_pred))\n",
    "print('test - accuracy score : ','\\n', accuracy_score(y_test,y_test_pred))\n",
    "print('test - AUC : ', roc_auc_score(y_test,y_test_prob))"
   ]
  },
  {
   "cell_type": "code",
   "execution_count": 8,
   "metadata": {},
   "outputs": [],
   "source": [
    "from sklearn.metrics import accuracy_score,confusion_matrix,roc_auc_score,roc_curve\n",
    "lc=LogisticRegression(solver='liblinear')\n",
    "def model_eval(algo,xtrain,ytrain,xtest,ytest):\n",
    "    algo.fit(xtrain,ytrain)\n",
    "\n",
    "    y_train_pred=algo.predict(xtrain)\n",
    "    y_train_prob=algo.predict_proba(xtrain)[:,1]\n",
    "    print('train - confusion matrix : ','\\n',confusion_matrix(ytrain,y_train_pred))\n",
    "    print('train - accuracy score : ','\\n', accuracy_score(ytrain,y_train_pred))\n",
    "    print('train - AUC : ', roc_auc_score(ytrain,y_train_prob))\n",
    "    print()\n",
    "    print()\n",
    "    y_test_pred=algo.predict(xtest)\n",
    "    y_test_prob=algo.predict_proba(xtest)[:,1]\n",
    "    print('test - confusion matrix : ','\\n',confusion_matrix(ytest,y_test_pred))\n",
    "    print('test - accuracy score : ','\\n', accuracy_score(ytest,y_test_pred))\n",
    "    print('test - AUC : ', roc_auc_score(ytest,y_test_prob))"
   ]
  },
  {
   "cell_type": "code",
   "execution_count": 9,
   "metadata": {},
   "outputs": [
    {
     "name": "stdout",
     "output_type": "stream",
     "text": [
      "train - confusion matrix :  \n",
      " [[2523    7]\n",
      " [ 415   23]]\n",
      "train - accuracy score :  \n",
      " 0.8578167115902965\n",
      "train - AUC :  0.72170574115184\n",
      "\n",
      "\n",
      "test - confusion matrix :  \n",
      " [[1062    4]\n",
      " [ 196   10]]\n",
      "test - accuracy score :  \n",
      " 0.8427672955974843\n",
      "test - AUC :  0.7315206105757847\n"
     ]
    }
   ],
   "source": [
    "model_eval(lc,x_train,y_train,x_test,y_test)"
   ]
  },
  {
   "cell_type": "markdown",
   "metadata": {},
   "source": [
    "# undersample Majority class"
   ]
  },
  {
   "cell_type": "code",
   "execution_count": 10,
   "metadata": {},
   "outputs": [
    {
     "name": "stdout",
     "output_type": "stream",
     "text": [
      "Before Sampling:\n",
      " 0    2530\n",
      "1     438\n",
      "Name: TenYearCHD, dtype: int64\n",
      "After Sampling:\n",
      " 1    438\n",
      "0    438\n",
      "Name: TenYearCHD, dtype: int64\n"
     ]
    }
   ],
   "source": [
    "xy_train = pd.concat([x_train,y_train],axis=1)\n",
    "print(\"Before Sampling:\\n\",xy_train[\"TenYearCHD\"].value_counts())\n",
    "\n",
    "xy_train0 = xy_train[xy_train[\"TenYearCHD\"]==0]\n",
    "xy_train1 = xy_train[xy_train[\"TenYearCHD\"]==1]\n",
    "\n",
    "len0 = len(xy_train0)\n",
    "len1 = len(xy_train1)\n",
    "\n",
    "xy_train0_us = xy_train0.sample(len1,random_state=4)\n",
    "xy_train_us = pd.concat([xy_train0_us,xy_train1],axis=0)\n",
    "print(\"After Sampling:\\n\",xy_train_us[\"TenYearCHD\"].value_counts())\n",
    "\n",
    "y_train_us = xy_train_us[\"TenYearCHD\"]\n",
    "x_train_us = xy_train_us.drop(\"TenYearCHD\",axis=1)"
   ]
  },
  {
   "cell_type": "code",
   "execution_count": 11,
   "metadata": {},
   "outputs": [
    {
     "name": "stdout",
     "output_type": "stream",
     "text": [
      "train - confusion matrix :  \n",
      " [[285 153]\n",
      " [152 286]]\n",
      "train - accuracy score :  \n",
      " 0.6518264840182648\n",
      "train - AUC :  0.7155501344842685\n",
      "\n",
      "\n",
      "test - confusion matrix :  \n",
      " [[737 329]\n",
      " [ 73 133]]\n",
      "test - accuracy score :  \n",
      " 0.6839622641509434\n",
      "test - AUC :  0.7373631577988671\n"
     ]
    }
   ],
   "source": [
    "model_eval(lc,x_train_us,y_train_us,x_test,y_test)"
   ]
  },
  {
   "cell_type": "markdown",
   "metadata": {},
   "source": [
    "# oversample majority class"
   ]
  },
  {
   "cell_type": "code",
   "execution_count": 12,
   "metadata": {},
   "outputs": [
    {
     "name": "stdout",
     "output_type": "stream",
     "text": [
      "Before Sampling:\n",
      " 0    2530\n",
      "1     438\n",
      "Name: TenYearCHD, dtype: int64\n",
      "After Sampling:\n",
      " 1    2530\n",
      "0    2530\n",
      "Name: TenYearCHD, dtype: int64\n"
     ]
    }
   ],
   "source": [
    "xy_train = pd.concat([x_train,y_train],axis=1)\n",
    "print(\"Before Sampling:\\n\",xy_train[\"TenYearCHD\"].value_counts())\n",
    "\n",
    "xy_train0 = xy_train[xy_train[\"TenYearCHD\"]==0]\n",
    "xy_train1 = xy_train[xy_train[\"TenYearCHD\"]==1]\n",
    "\n",
    "len0 = len(xy_train0)\n",
    "len1 = len(xy_train1)\n",
    "\n",
    "xy_train1_os = xy_train1.sample(len0,replace=True,random_state=4)\n",
    "xy_train_os = pd.concat([xy_train1_os,xy_train0],axis=0)\n",
    "print(\"After Sampling:\\n\",xy_train_os[\"TenYearCHD\"].value_counts())\n",
    "\n",
    "y_train_os = xy_train_os[\"TenYearCHD\"]\n",
    "x_train_os = xy_train_os.drop(\"TenYearCHD\",axis=1)"
   ]
  },
  {
   "cell_type": "code",
   "execution_count": 13,
   "metadata": {},
   "outputs": [
    {
     "name": "stdout",
     "output_type": "stream",
     "text": [
      "train - confusion matrix :  \n",
      " [[1705  825]\n",
      " [ 792 1738]]\n",
      "train - accuracy score :  \n",
      " 0.6804347826086956\n",
      "train - AUC :  0.7327399271977377\n",
      "\n",
      "\n",
      "test - confusion matrix :  \n",
      " [[741 325]\n",
      " [ 72 134]]\n",
      "test - accuracy score :  \n",
      " 0.6878930817610063\n",
      "test - AUC :  0.7399132953241407\n"
     ]
    }
   ],
   "source": [
    "model_eval(lc,x_train_os,y_train_os,x_test,y_test)"
   ]
  },
  {
   "cell_type": "markdown",
   "metadata": {},
   "source": [
    "## smote for oversampling minority class"
   ]
  },
  {
   "cell_type": "code",
   "execution_count": 14,
   "metadata": {},
   "outputs": [],
   "source": [
    "# !pip install imblearn"
   ]
  },
  {
   "cell_type": "code",
   "execution_count": 15,
   "metadata": {},
   "outputs": [
    {
     "name": "stdout",
     "output_type": "stream",
     "text": [
      "Requirement already satisfied: imblearn in c:\\users\\sai\\anaconda3\\lib\\site-packages (0.0)\n",
      "Requirement already satisfied: imbalanced-learn in c:\\users\\sai\\anaconda3\\lib\\site-packages (from imblearn) (0.7.0)\n",
      "Requirement already satisfied: numpy>=1.13.3 in c:\\users\\sai\\anaconda3\\lib\\site-packages (from imbalanced-learn->imblearn) (1.16.5)\n",
      "Requirement already satisfied: scikit-learn>=0.23 in c:\\users\\sai\\anaconda3\\lib\\site-packages (from imbalanced-learn->imblearn) (0.24.1)\n",
      "Requirement already satisfied: scipy>=0.19.1 in c:\\users\\sai\\anaconda3\\lib\\site-packages (from imbalanced-learn->imblearn) (1.3.1)\n",
      "Requirement already satisfied: joblib>=0.11 in c:\\users\\sai\\anaconda3\\lib\\site-packages (from imbalanced-learn->imblearn) (0.13.2)\n",
      "Requirement already satisfied: threadpoolctl>=2.0.0 in c:\\users\\sai\\anaconda3\\lib\\site-packages (from scikit-learn>=0.23->imbalanced-learn->imblearn) (2.1.0)\n",
      "Note: you may need to restart the kernel to use updated packages.\n"
     ]
    }
   ],
   "source": [
    "pip install imblearn"
   ]
  },
  {
   "cell_type": "code",
   "execution_count": 16,
   "metadata": {},
   "outputs": [],
   "source": [
    "from imblearn.over_sampling import SMOTE"
   ]
  },
  {
   "cell_type": "code",
   "execution_count": 17,
   "metadata": {},
   "outputs": [],
   "source": [
    "smote=SMOTE(sampling_strategy='minority',random_state=4)\n",
    "x_train_sm,y_train_sm=smote.fit_sample(x_train,y_train)"
   ]
  },
  {
   "cell_type": "code",
   "execution_count": 18,
   "metadata": {},
   "outputs": [
    {
     "name": "stdout",
     "output_type": "stream",
     "text": [
      "train - confusion matrix :  \n",
      " [[1726  804]\n",
      " [ 818 1712]]\n",
      "train - accuracy score :  \n",
      " 0.6794466403162055\n",
      "train - AUC :  0.7461239825649518\n",
      "\n",
      "\n",
      "test - confusion matrix :  \n",
      " [[732 334]\n",
      " [ 95 111]]\n",
      "test - accuracy score :  \n",
      " 0.6627358490566038\n",
      "test - AUC :  0.6570975791908777\n"
     ]
    }
   ],
   "source": [
    "model_eval(lc,x_train_sm,y_train_sm,x_test,y_test)"
   ]
  },
  {
   "cell_type": "code",
   "execution_count": null,
   "metadata": {},
   "outputs": [],
   "source": []
  },
  {
   "cell_type": "code",
   "execution_count": null,
   "metadata": {},
   "outputs": [],
   "source": []
  }
 ],
 "metadata": {
  "kernelspec": {
   "display_name": "Python 3",
   "language": "python",
   "name": "python3"
  },
  "language_info": {
   "codemirror_mode": {
    "name": "ipython",
    "version": 3
   },
   "file_extension": ".py",
   "mimetype": "text/x-python",
   "name": "python",
   "nbconvert_exporter": "python",
   "pygments_lexer": "ipython3",
   "version": "3.7.4"
  }
 },
 "nbformat": 4,
 "nbformat_minor": 2
}
