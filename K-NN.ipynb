{
 "cells": [
  {
   "cell_type": "code",
   "execution_count": 1,
   "metadata": {},
   "outputs": [],
   "source": [
    "import numpy as np\n",
    "import pandas as pd\n",
    "import matplotlib.pyplot as plt\n",
    "import seaborn as sns\n",
    "import warnings\n",
    "warnings.filterwarnings('ignore')"
   ]
  },
  {
   "cell_type": "code",
   "execution_count": 6,
   "metadata": {},
   "outputs": [],
   "source": [
    "df=pd.read_csv(\"C:/Users/sai/Downloads/UahZCQ.csv\")\n",
    "df=df.sample(frac=1,random_state=4).reset_index(drop=True)"
   ]
  },
  {
   "cell_type": "code",
   "execution_count": 7,
   "metadata": {},
   "outputs": [
    {
     "data": {
      "text/html": [
       "<div>\n",
       "<style scoped>\n",
       "    .dataframe tbody tr th:only-of-type {\n",
       "        vertical-align: middle;\n",
       "    }\n",
       "\n",
       "    .dataframe tbody tr th {\n",
       "        vertical-align: top;\n",
       "    }\n",
       "\n",
       "    .dataframe thead th {\n",
       "        text-align: right;\n",
       "    }\n",
       "</style>\n",
       "<table border=\"1\" class=\"dataframe\">\n",
       "  <thead>\n",
       "    <tr style=\"text-align: right;\">\n",
       "      <th></th>\n",
       "      <th>Pregnancies</th>\n",
       "      <th>Glucose</th>\n",
       "      <th>BloodPressure</th>\n",
       "      <th>SkinThickness</th>\n",
       "      <th>Insulin</th>\n",
       "      <th>BMI</th>\n",
       "      <th>DiabetesPedigreeFunction</th>\n",
       "      <th>Age</th>\n",
       "      <th>Outcome</th>\n",
       "    </tr>\n",
       "  </thead>\n",
       "  <tbody>\n",
       "    <tr>\n",
       "      <td>0</td>\n",
       "      <td>1</td>\n",
       "      <td>100</td>\n",
       "      <td>66</td>\n",
       "      <td>29</td>\n",
       "      <td>196</td>\n",
       "      <td>32.0</td>\n",
       "      <td>0.444</td>\n",
       "      <td>42</td>\n",
       "      <td>0</td>\n",
       "    </tr>\n",
       "    <tr>\n",
       "      <td>1</td>\n",
       "      <td>9</td>\n",
       "      <td>57</td>\n",
       "      <td>80</td>\n",
       "      <td>37</td>\n",
       "      <td>0</td>\n",
       "      <td>32.8</td>\n",
       "      <td>0.096</td>\n",
       "      <td>41</td>\n",
       "      <td>0</td>\n",
       "    </tr>\n",
       "    <tr>\n",
       "      <td>2</td>\n",
       "      <td>0</td>\n",
       "      <td>100</td>\n",
       "      <td>70</td>\n",
       "      <td>26</td>\n",
       "      <td>50</td>\n",
       "      <td>30.8</td>\n",
       "      <td>0.597</td>\n",
       "      <td>21</td>\n",
       "      <td>0</td>\n",
       "    </tr>\n",
       "    <tr>\n",
       "      <td>3</td>\n",
       "      <td>1</td>\n",
       "      <td>119</td>\n",
       "      <td>88</td>\n",
       "      <td>41</td>\n",
       "      <td>170</td>\n",
       "      <td>45.3</td>\n",
       "      <td>0.507</td>\n",
       "      <td>26</td>\n",
       "      <td>0</td>\n",
       "    </tr>\n",
       "    <tr>\n",
       "      <td>4</td>\n",
       "      <td>2</td>\n",
       "      <td>102</td>\n",
       "      <td>86</td>\n",
       "      <td>36</td>\n",
       "      <td>120</td>\n",
       "      <td>45.5</td>\n",
       "      <td>0.127</td>\n",
       "      <td>23</td>\n",
       "      <td>1</td>\n",
       "    </tr>\n",
       "  </tbody>\n",
       "</table>\n",
       "</div>"
      ],
      "text/plain": [
       "   Pregnancies  Glucose  BloodPressure  SkinThickness  Insulin   BMI  \\\n",
       "0            1      100             66             29      196  32.0   \n",
       "1            9       57             80             37        0  32.8   \n",
       "2            0      100             70             26       50  30.8   \n",
       "3            1      119             88             41      170  45.3   \n",
       "4            2      102             86             36      120  45.5   \n",
       "\n",
       "   DiabetesPedigreeFunction  Age  Outcome  \n",
       "0                     0.444   42        0  \n",
       "1                     0.096   41        0  \n",
       "2                     0.597   21        0  \n",
       "3                     0.507   26        0  \n",
       "4                     0.127   23        1  "
      ]
     },
     "execution_count": 7,
     "metadata": {},
     "output_type": "execute_result"
    }
   ],
   "source": [
    "df.head()"
   ]
  },
  {
   "cell_type": "code",
   "execution_count": 8,
   "metadata": {},
   "outputs": [
    {
     "data": {
      "text/plain": [
       "Pregnancies                 0\n",
       "Glucose                     0\n",
       "BloodPressure               0\n",
       "SkinThickness               0\n",
       "Insulin                     0\n",
       "BMI                         0\n",
       "DiabetesPedigreeFunction    0\n",
       "Age                         0\n",
       "Outcome                     0\n",
       "dtype: int64"
      ]
     },
     "execution_count": 8,
     "metadata": {},
     "output_type": "execute_result"
    }
   ],
   "source": [
    "df.isnull().sum()"
   ]
  },
  {
   "cell_type": "code",
   "execution_count": 9,
   "metadata": {},
   "outputs": [
    {
     "name": "stdout",
     "output_type": "stream",
     "text": [
      "<class 'pandas.core.frame.DataFrame'>\n",
      "RangeIndex: 768 entries, 0 to 767\n",
      "Data columns (total 9 columns):\n",
      "Pregnancies                 768 non-null int64\n",
      "Glucose                     768 non-null int64\n",
      "BloodPressure               768 non-null int64\n",
      "SkinThickness               768 non-null int64\n",
      "Insulin                     768 non-null int64\n",
      "BMI                         768 non-null float64\n",
      "DiabetesPedigreeFunction    768 non-null float64\n",
      "Age                         768 non-null int64\n",
      "Outcome                     768 non-null int64\n",
      "dtypes: float64(2), int64(7)\n",
      "memory usage: 54.1 KB\n"
     ]
    }
   ],
   "source": [
    "df.info()"
   ]
  },
  {
   "cell_type": "code",
   "execution_count": 10,
   "metadata": {},
   "outputs": [
    {
     "data": {
      "text/plain": [
       "(768, 9)"
      ]
     },
     "execution_count": 10,
     "metadata": {},
     "output_type": "execute_result"
    }
   ],
   "source": [
    "df.shape"
   ]
  },
  {
   "cell_type": "code",
   "execution_count": 11,
   "metadata": {},
   "outputs": [
    {
     "data": {
      "text/plain": [
       "2"
      ]
     },
     "execution_count": 11,
     "metadata": {},
     "output_type": "execute_result"
    }
   ],
   "source": [
    "df.ndim"
   ]
  },
  {
   "cell_type": "code",
   "execution_count": 12,
   "metadata": {},
   "outputs": [],
   "source": [
    "from sklearn.model_selection import train_test_split"
   ]
  },
  {
   "cell_type": "code",
   "execution_count": 13,
   "metadata": {},
   "outputs": [],
   "source": [
    "y=df['Outcome']\n",
    "x=df.drop('Outcome',axis=1)\n",
    "\n",
    "x_train,x_test,y_train,y_test=train_test_split(x,y,test_size=0.3,random_state=42)"
   ]
  },
  {
   "cell_type": "code",
   "execution_count": 14,
   "metadata": {},
   "outputs": [
    {
     "data": {
      "text/plain": [
       "(537, 8)"
      ]
     },
     "execution_count": 14,
     "metadata": {},
     "output_type": "execute_result"
    }
   ],
   "source": [
    "x_train.shape"
   ]
  },
  {
   "cell_type": "code",
   "execution_count": 15,
   "metadata": {},
   "outputs": [
    {
     "data": {
      "text/plain": [
       "(231, 8)"
      ]
     },
     "execution_count": 15,
     "metadata": {},
     "output_type": "execute_result"
    }
   ],
   "source": [
    "x_test.shape"
   ]
  },
  {
   "cell_type": "code",
   "execution_count": 16,
   "metadata": {},
   "outputs": [],
   "source": [
    "from sklearn.preprocessing import StandardScaler\n",
    "ss=StandardScaler()\n",
    "\n",
    "x_trains=ss.fit_transform(x_train)\n",
    "x_tests=ss.transform(x_test)"
   ]
  },
  {
   "cell_type": "code",
   "execution_count": 19,
   "metadata": {},
   "outputs": [
    {
     "data": {
      "text/plain": [
       "KNeighborsClassifier(algorithm='auto', leaf_size=30, metric='minkowski',\n",
       "                     metric_params=None, n_jobs=None, n_neighbors=5, p=2,\n",
       "                     weights='uniform')"
      ]
     },
     "execution_count": 19,
     "metadata": {},
     "output_type": "execute_result"
    }
   ],
   "source": [
    "from sklearn.neighbors import KNeighborsClassifier\n",
    "knn=KNeighborsClassifier()\n",
    "knn.fit(x_trains,y_train)"
   ]
  },
  {
   "cell_type": "code",
   "execution_count": 21,
   "metadata": {},
   "outputs": [
    {
     "name": "stdout",
     "output_type": "stream",
     "text": [
      "train - confusion matrix :  \n",
      " [[308  41]\n",
      " [ 57 131]]\n",
      "train - accuracy score :  \n",
      " 0.8175046554934823\n",
      "train - AUC :  0.8982045967201122\n"
     ]
    }
   ],
   "source": [
    "from sklearn.metrics import accuracy_score,confusion_matrix,roc_auc_score,roc_curve\n",
    "y_train_pred=knn.predict(x_trains)\n",
    "y_train_prob=knn.predict_proba(x_trains)[:,1]\n",
    "print('train - confusion matrix : ','\\n',confusion_matrix(y_train,y_train_pred))\n",
    "print('train - accuracy score : ','\\n', accuracy_score(y_train,y_train_pred))\n",
    "print('train - AUC : ', roc_auc_score(y_train,y_train_prob))"
   ]
  },
  {
   "cell_type": "code",
   "execution_count": 22,
   "metadata": {},
   "outputs": [
    {
     "name": "stdout",
     "output_type": "stream",
     "text": [
      "test - confusion matrix :  \n",
      " [[133  18]\n",
      " [ 42  38]]\n",
      "test - accuracy score :  \n",
      " 0.7402597402597403\n",
      "test - AUC :  0.764114238410596\n"
     ]
    }
   ],
   "source": [
    "y_test_pred=knn.predict(x_tests)\n",
    "y_test_prob=knn.predict_proba(x_tests)[:,1]\n",
    "print('test - confusion matrix : ','\\n',confusion_matrix(y_test,y_test_pred))\n",
    "print('test - accuracy score : ','\\n', accuracy_score(y_test,y_test_pred))\n",
    "print('test - AUC : ', roc_auc_score(y_test,y_test_prob))"
   ]
  },
  {
   "cell_type": "markdown",
   "metadata": {},
   "source": [
    "# hyper parameter tuning"
   ]
  },
  {
   "cell_type": "code",
   "execution_count": 26,
   "metadata": {},
   "outputs": [],
   "source": [
    "xs=ss.fit_transform(x)"
   ]
  },
  {
   "cell_type": "code",
   "execution_count": 30,
   "metadata": {},
   "outputs": [
    {
     "name": "stdout",
     "output_type": "stream",
     "text": [
      "RandomizedSearchCV(cv=3, error_score='raise-deprecating',\n",
      "                   estimator=KNeighborsClassifier(algorithm='auto',\n",
      "                                                  leaf_size=30,\n",
      "                                                  metric='minkowski',\n",
      "                                                  metric_params=None,\n",
      "                                                  n_jobs=None, n_neighbors=5,\n",
      "                                                  p=2, weights='uniform'),\n",
      "                   iid='warn', n_iter=100, n_jobs=-1,\n",
      "                   param_distributions={'n_neighbors': <scipy.stats._distn_infrastructure.rv_frozen object at 0x0000025B65D5F108>,\n",
      "                                        'p': <scipy.stats._distn_infrastructure.rv_frozen object at 0x0000025B65D5F388>},\n",
      "                   pre_dispatch='2*n_jobs', random_state=4, refit=True,\n",
      "                   return_train_score=False, scoring='roc_auc', verbose=0)\n",
      "{'n_neighbors': 14, 'p': 1}\n"
     ]
    }
   ],
   "source": [
    "from scipy.stats import randint as sp_randint\n",
    "from sklearn.model_selection import RandomizedSearchCV\n",
    "param_dist={'n_neighbors':sp_randint(1,15),\n",
    "           'p':sp_randint(1,6)}\n",
    "r_search=RandomizedSearchCV(knn,param_distributions=param_dist,cv=3,n_iter=100,scoring='roc_auc',random_state=4,n_jobs=-1)\n",
    "\n",
    "\n",
    "print(r_search.fit(xs,y))\n",
    "print(r_search.best_params_)"
   ]
  },
  {
   "cell_type": "code",
   "execution_count": 28,
   "metadata": {},
   "outputs": [
    {
     "name": "stdout",
     "output_type": "stream",
     "text": [
      "RandomizedSearchCV(cv=3, error_score='raise-deprecating',\n",
      "                   estimator=KNeighborsClassifier(algorithm='auto',\n",
      "                                                  leaf_size=30,\n",
      "                                                  metric='minkowski',\n",
      "                                                  metric_params=None,\n",
      "                                                  n_jobs=None, n_neighbors=5,\n",
      "                                                  p=2, weights='uniform'),\n",
      "                   iid='warn', n_iter=100, n_jobs=-1,\n",
      "                   param_distributions={'n_neighbors': <scipy.stats._distn_infrastructure.rv_frozen object at 0x0000025B65C53748>,\n",
      "                                        'p': <scipy.stats._distn_infrastructure.rv_frozen object at 0x0000025B65D292C8>},\n",
      "                   pre_dispatch='2*n_jobs', random_state=4, refit=True,\n",
      "                   return_train_score=False, scoring='roc_auc', verbose=0)\n",
      "{'n_neighbors': 16, 'p': 2}\n"
     ]
    }
   ],
   "source": [
    "from scipy.stats import randint as sp_randint\n",
    "from sklearn.model_selection import RandomizedSearchCV\n",
    "param_dist={'n_neighbors':sp_randint(1,20),\n",
    "           'p':sp_randint(1,6)}\n",
    "r_search=RandomizedSearchCV(knn,param_distributions=param_dist,cv=3,n_iter=100,scoring='roc_auc',random_state=4,n_jobs=-1)\n",
    "\n",
    "\n",
    "print(r_search.fit(xs,y))\n",
    "print(r_search.best_params_)"
   ]
  },
  {
   "cell_type": "code",
   "execution_count": 33,
   "metadata": {},
   "outputs": [
    {
     "name": "stdout",
     "output_type": "stream",
     "text": [
      "RandomizedSearchCV(cv=3, error_score='raise-deprecating',\n",
      "                   estimator=KNeighborsClassifier(algorithm='auto',\n",
      "                                                  leaf_size=30,\n",
      "                                                  metric='minkowski',\n",
      "                                                  metric_params=None,\n",
      "                                                  n_jobs=None, n_neighbors=14,\n",
      "                                                  p=1, weights='uniform'),\n",
      "                   iid='warn', n_iter=100, n_jobs=-1,\n",
      "                   param_distributions={'n_neighbors': <scipy.stats._distn_infrastructure.rv_frozen object at 0x0000025B65D717C8>,\n",
      "                                        'p': <scipy.stats._distn_infrastructure.rv_frozen object at 0x0000025B65D71C48>},\n",
      "                   pre_dispatch='2*n_jobs', random_state=4, refit=True,\n",
      "                   return_train_score=False, scoring='roc_auc', verbose=0)\n",
      "{'n_neighbors': 23, 'p': 1}\n"
     ]
    }
   ],
   "source": [
    "from scipy.stats import randint as sp_randint\n",
    "from sklearn.model_selection import RandomizedSearchCV\n",
    "param_dist={'n_neighbors':sp_randint(1,25),\n",
    "           'p':sp_randint(1,6)}\n",
    "r_search=RandomizedSearchCV(knn,param_distributions=param_dist,cv=3,n_iter=100,scoring='roc_auc',random_state=4,n_jobs=-1)\n",
    "\n",
    "\n",
    "print(r_search.fit(xs,y))\n",
    "print(r_search.best_params_)"
   ]
  },
  {
   "cell_type": "code",
   "execution_count": 34,
   "metadata": {},
   "outputs": [
    {
     "name": "stdout",
     "output_type": "stream",
     "text": [
      "train - confusion matrix :  \n",
      " [[321  28]\n",
      " [ 96  92]]\n",
      "train - accuracy score :  \n",
      " 0.7690875232774674\n",
      "train - AUC :  0.8581433274401025\n"
     ]
    }
   ],
   "source": [
    "knn=KNeighborsClassifier(**r_search.best_params_)\n",
    "knn.fit(x_trains,y_train)\n",
    "y_train_pred=knn.predict(x_trains)\n",
    "y_train_prob=knn.predict_proba(x_trains)[:,1]\n",
    "print('train - confusion matrix : ','\\n',confusion_matrix(y_train,y_train_pred))\n",
    "print('train - accuracy score : ','\\n', accuracy_score(y_train,y_train_pred))\n",
    "print('train - AUC : ', roc_auc_score(y_train,y_train_prob))"
   ]
  },
  {
   "cell_type": "code",
   "execution_count": 36,
   "metadata": {},
   "outputs": [
    {
     "name": "stdout",
     "output_type": "stream",
     "text": [
      "test - confusion matrix :  \n",
      " [[136  15]\n",
      " [ 47  33]]\n",
      "test - accuracy score :  \n",
      " 0.7316017316017316\n",
      "test - AUC :  0.8028973509933776\n"
     ]
    }
   ],
   "source": [
    "# for more number of n_neighbors the accuracy increases more\n",
    "y_test_pred=knn.predict(x_tests)\n",
    "y_test_prob=knn.predict_proba(x_tests)[:,1]  \n",
    "print('test - confusion matrix : ','\\n',confusion_matrix(y_test,y_test_pred))\n",
    "print('test - accuracy score : ','\\n', accuracy_score(y_test,y_test_pred))\n",
    "print('test - AUC : ', roc_auc_score(y_test,y_test_prob))"
   ]
  },
  {
   "cell_type": "code",
   "execution_count": null,
   "metadata": {},
   "outputs": [],
   "source": []
  }
 ],
 "metadata": {
  "kernelspec": {
   "display_name": "Python 3",
   "language": "python",
   "name": "python3"
  },
  "language_info": {
   "codemirror_mode": {
    "name": "ipython",
    "version": 3
   },
   "file_extension": ".py",
   "mimetype": "text/x-python",
   "name": "python",
   "nbconvert_exporter": "python",
   "pygments_lexer": "ipython3",
   "version": "3.7.4"
  }
 },
 "nbformat": 4,
 "nbformat_minor": 2
}
